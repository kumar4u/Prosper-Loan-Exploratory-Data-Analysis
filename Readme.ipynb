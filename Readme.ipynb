{
 "cells": [
  {
   "cell_type": "markdown",
   "metadata": {},
   "source": [
    "# Effects of Loan Characterics on Borrower's APR and RATE\n",
    "## by Muthukumar Palavesam\n",
    "\n",
    "\n",
    "## Dataset\n",
    "\n",
    "> Prosper is America’s first marketplace lending platform, with over 10 billion dollars in funded loans.This Exploratory Data Analysis scope covers loan information for over a 100,000 people between the years 2006 and 2013.This data set contains 113,937 loans with 81 variables on each loan, including loan amount, borrower rate (or interest rate), current loan status, borrower income, borrower employment status, borrower credit history, and the latest payment information\n",
    "\n",
    "- [Datset Link](https://s3.amazonaws.com/udacity-hosted-downloads/ud651/prosperLoanData.csv)\n",
    "- [Data Dictionary Link](https://www.google.com/url?q=https://docs.google.com/spreadsheet/ccc?key%3D0AllIqIyvWZdadDd5NTlqZ1pBMHlsUjdrOTZHaVBuSlE%26usp%3Dsharing&sa=D&ust=1554484977407000)\n",
    "\n",
    "## Summary of Findings\n",
    "\n",
    "> After analyzing the BorrowerRate,BorrowerAPR, ProsperScore, ProsperRating, HomeownerStatus and CreditScoreRangeUpper, \n",
    " - I found that the  BorrowerRate started decreasing constantly since 2011\n",
    " - ProsperScore,CreditScoreRangeUpper,ProsperRating were found to be negatively correlated to Borrower's APR\n",
    " - Higher prosperscore (score from 0 to 11) is showing as lower APR.That is it gave the strongest negative relationship with borrower's APR\n",
    " - ProsperRating and BorrowerAPR were analyzed.The APR for the borrower reduces drastically from a ‘High Risk (HR)’ to an ‘AA’ rating. if you see the results, it goes from a median APR of 35.8% for High Risk all the way to a median value of 9% for ‘AA’.\n",
    " - Homeowner customer getting lower interest rate\n",
    "\n",
    "## Key Insights for Presentation\n",
    "\n",
    "- Borrowers interest rate increased from 2005-2006,Decreased from 2006-2007.After 2007 interest rate constantly shoot up for few years, then reached its peak in 2011 which then started decreasing constantly.\n",
    "- The APR for the borrower reduces drastically from a ‘High Risk (HR)’ to an ‘AA’ rating. \n",
    "- Higher prosperscore had a lower APR. This make sense because the borrower with higher rating tend to be more reliable and therefore given lower BorrowerAPR\n",
    "- Homeowner customer getting lower interest rate. This makes sense because If someone has a house,might be more confident that the customers will have conditions to pay back.\n",
    "- BorrowerAPR decreases as ProsperScore increases. This proves the point that cbscore upper limit and ProsperScore negatively correlated to BorrowerAPR."
   ]
  }
 ],
 "metadata": {
  "kernelspec": {
   "display_name": "Python 3",
   "language": "python",
   "name": "python3"
  },
  "language_info": {
   "codemirror_mode": {
    "name": "ipython",
    "version": 3
   },
   "file_extension": ".py",
   "mimetype": "text/x-python",
   "name": "python",
   "nbconvert_exporter": "python",
   "pygments_lexer": "ipython3",
   "version": "3.7.3"
  }
 },
 "nbformat": 4,
 "nbformat_minor": 2
}
